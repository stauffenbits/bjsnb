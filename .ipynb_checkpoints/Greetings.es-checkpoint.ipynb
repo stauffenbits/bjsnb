{
 "cells": [
  {
   "cell_type": "markdown",
   "metadata": {},
   "source": [
    "# ijsnb: A Jupyter-like Browser Javascript Notebook\n",
    "___\n",
    "{ [Joshua M. Moore](mailto:fine.bitstrings@pm.me) }\n",
    "{ Wednesday, October 14th }\n",
    "{ in the foul year of our lord, 2020 }\n",
    "___\n",
    "Jupyter Notebooks famously run in the browser. This is great: The sys-admin doesn't have to worry about what you're running, as long as it can run an HTML5-capable browser.\n",
    "\n",
    "But if you write [Python 3](https://python.org), [Node.js](https://nodejs.org), [Julia](https://julialang.org), or even [box-lang](https://github.com/box-lang), you might have wondered: \n",
    "\n",
    "> Why isn't there a kernel for writing vanilla Javascript?\n",
    "\n",
    "The answer to that is probably because it doesn't require a round trip to a server to run from a browser. You can just run it in the browser. And that's what this page does. It literally calls `eval(...)`.\n",
    "\n",
    "## Data Types\n",
    "In good repl fashion, the output of the last command is written to the output field below a code cell. \n",
    "\n",
    "### Basic Type Output\n",
    "The basic types are stringified. Undefined is not printed. \n",
    "\n",
    "### Composite Output\n",
    "Arrays and Objects are treated special: Arrays get an indexed table, and objects get a key-value table.\n",
    "\n",
    "### Vega Lite Schema Output\n",
    "If a returned object is a vega-lite schema (ie, if it has a `$schema` property beginning with `https://vega.github.io/schema/vega-lite/`), es.ipynb will attempt to render the result using vega-embed.\n"
   ]
  },
  {
   "cell_type": "code",
   "execution_count": null,
   "metadata": {},
   "outputs": [],
   "source": [
    "var spec = {\n",
    "  \"$schema\": \"https://vega.github.io/schema/vega-lite/v4.json\",\n",
    "  \"description\": \"A scatter plot of random data\",\n",
    "  \"data\": {values: Array(100).fill(0).map(() => { return { xVal: Math.random(), yVal: Math.random() } }) },\n",
    "  \"mark\": \"point\",\n",
    "  \"encoding\": {\n",
    "    \"x\": {\"field\": \"xVal\", \"type\": \"quantitative\"},\n",
    "    \"y\": {\"field\": \"yVal\", \"type\": \"quantitative\"}\n",
    "  }\n",
    "}\n",
    "\n",
    "spec"
   ]
  },
  {
   "cell_type": "markdown",
   "metadata": {},
   "source": [
    "### Licenses\n",
    "\n",
    "The licenses for es.ipynb can be found at https://joshuamoore.dev/es.ipynb/licenses"
   ]
  }
 ],
 "metadata": {
  "kernelspec": {
   "display_name": "Javascript (Browser)",
   "language": "javascript",
   "name": "javascript"
  },
  "language_info": {
   "file_extension": ".js",
   "mimetype": "application/javascript",
   "name": "javascript"
  }
 },
 "nbformat": 4,
 "nbformat_minor": 4
}
